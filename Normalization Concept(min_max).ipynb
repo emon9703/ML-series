{
 "cells": [
  {
   "cell_type": "markdown",
   "id": "ee0dd0db-f7c1-4571-be42-cfe2193d04f9",
   "metadata": {},
   "source": [
    "***Row code***"
   ]
  },
  {
   "cell_type": "code",
   "execution_count": 5,
   "id": "2ca9f647-6b99-425b-931a-a375890eec2e",
   "metadata": {},
   "outputs": [],
   "source": [
    "def min_max_scaling(data):\n",
    "    min_value = min(data)\n",
    "    max_value = max(data)\n",
    "    scalled_data = [(x - min_value) / (max_value - min_value) for x in data]\n",
    "    return scalled_data"
   ]
  },
  {
   "cell_type": "code",
   "execution_count": 9,
   "id": "fc9ecd81-0646-49e9-9e79-a39264f3ed5c",
   "metadata": {},
   "outputs": [
    {
     "name": "stdout",
     "output_type": "stream",
     "text": [
      "original data: [0, 1, 2, 5, 6]\n",
      "scalled data: [0.0, 0.16666666666666666, 0.3333333333333333, 0.8333333333333334, 1.0]\n"
     ]
    }
   ],
   "source": [
    "values = [0,1,2,5,6]\n",
    "final_data = min_max_scaling(values)\n",
    "print(\"original data:\",values)\n",
    "print(\"scalled data:\",final_data)"
   ]
  },
  {
   "cell_type": "markdown",
   "id": "8f2f8cc2-d2fb-4d7f-bd9d-11a767b09956",
   "metadata": {},
   "source": [
    "***Using sklearn***"
   ]
  },
  {
   "cell_type": "code",
   "execution_count": 10,
   "id": "e22e233b-8836-4f8b-b378-790ebef9899e",
   "metadata": {},
   "outputs": [],
   "source": [
    "import pandas as pd\n",
    "from sklearn.preprocessing import MinMaxScaler"
   ]
  },
  {
   "cell_type": "code",
   "execution_count": 19,
   "id": "07d816ca-f716-4ca8-8600-e9cca445db3d",
   "metadata": {},
   "outputs": [],
   "source": [
    "data = {'Feature 1':[1,2,3,5,7],\n",
    "        'Feature 2':[8,5,17,3,12]}"
   ]
  },
  {
   "cell_type": "code",
   "execution_count": 20,
   "id": "39c90d2b-4053-4f0a-9b02-1e513cb9fa57",
   "metadata": {},
   "outputs": [],
   "source": [
    "df = pd.DataFrame(data)"
   ]
  },
  {
   "cell_type": "code",
   "execution_count": 21,
   "id": "b3c4217a-0859-486b-9013-956243241a42",
   "metadata": {},
   "outputs": [
    {
     "data": {
      "text/html": [
       "<div>\n",
       "<style scoped>\n",
       "    .dataframe tbody tr th:only-of-type {\n",
       "        vertical-align: middle;\n",
       "    }\n",
       "\n",
       "    .dataframe tbody tr th {\n",
       "        vertical-align: top;\n",
       "    }\n",
       "\n",
       "    .dataframe thead th {\n",
       "        text-align: right;\n",
       "    }\n",
       "</style>\n",
       "<table border=\"1\" class=\"dataframe\">\n",
       "  <thead>\n",
       "    <tr style=\"text-align: right;\">\n",
       "      <th></th>\n",
       "      <th>Feature 1</th>\n",
       "      <th>Feature 2</th>\n",
       "    </tr>\n",
       "  </thead>\n",
       "  <tbody>\n",
       "    <tr>\n",
       "      <th>0</th>\n",
       "      <td>1</td>\n",
       "      <td>8</td>\n",
       "    </tr>\n",
       "    <tr>\n",
       "      <th>1</th>\n",
       "      <td>2</td>\n",
       "      <td>5</td>\n",
       "    </tr>\n",
       "    <tr>\n",
       "      <th>2</th>\n",
       "      <td>3</td>\n",
       "      <td>17</td>\n",
       "    </tr>\n",
       "    <tr>\n",
       "      <th>3</th>\n",
       "      <td>5</td>\n",
       "      <td>3</td>\n",
       "    </tr>\n",
       "    <tr>\n",
       "      <th>4</th>\n",
       "      <td>7</td>\n",
       "      <td>12</td>\n",
       "    </tr>\n",
       "  </tbody>\n",
       "</table>\n",
       "</div>"
      ],
      "text/plain": [
       "   Feature 1  Feature 2\n",
       "0          1          8\n",
       "1          2          5\n",
       "2          3         17\n",
       "3          5          3\n",
       "4          7         12"
      ]
     },
     "execution_count": 21,
     "metadata": {},
     "output_type": "execute_result"
    }
   ],
   "source": [
    "df"
   ]
  },
  {
   "cell_type": "code",
   "execution_count": 22,
   "id": "be884e4b-0276-48c0-8181-83ada78d6cfa",
   "metadata": {},
   "outputs": [],
   "source": [
    "scaller = MinMaxScaler()\n",
    "scalled_data = scaller.fit_transform(df)"
   ]
  },
  {
   "cell_type": "code",
   "execution_count": 23,
   "id": "b2ad3d07-c4df-4cdf-be25-9198bda13e95",
   "metadata": {},
   "outputs": [
    {
     "data": {
      "text/plain": [
       "array([[0.        , 0.35714286],\n",
       "       [0.16666667, 0.14285714],\n",
       "       [0.33333333, 1.        ],\n",
       "       [0.66666667, 0.        ],\n",
       "       [1.        , 0.64285714]])"
      ]
     },
     "execution_count": 23,
     "metadata": {},
     "output_type": "execute_result"
    }
   ],
   "source": [
    "scalled_data"
   ]
  },
  {
   "cell_type": "code",
   "execution_count": 26,
   "id": "78fe88c6-4429-40af-b6f6-1c585fe4327e",
   "metadata": {},
   "outputs": [],
   "source": [
    "scalled_df = pd.DataFrame(scalled_data, columns=['scalled 1','scalled 2'])"
   ]
  },
  {
   "cell_type": "code",
   "execution_count": 27,
   "id": "d6feb2fe-1c66-4df5-935c-23c623816df8",
   "metadata": {},
   "outputs": [
    {
     "data": {
      "text/html": [
       "<div>\n",
       "<style scoped>\n",
       "    .dataframe tbody tr th:only-of-type {\n",
       "        vertical-align: middle;\n",
       "    }\n",
       "\n",
       "    .dataframe tbody tr th {\n",
       "        vertical-align: top;\n",
       "    }\n",
       "\n",
       "    .dataframe thead th {\n",
       "        text-align: right;\n",
       "    }\n",
       "</style>\n",
       "<table border=\"1\" class=\"dataframe\">\n",
       "  <thead>\n",
       "    <tr style=\"text-align: right;\">\n",
       "      <th></th>\n",
       "      <th>scalled 1</th>\n",
       "      <th>scalled 2</th>\n",
       "    </tr>\n",
       "  </thead>\n",
       "  <tbody>\n",
       "    <tr>\n",
       "      <th>0</th>\n",
       "      <td>0.000000</td>\n",
       "      <td>0.357143</td>\n",
       "    </tr>\n",
       "    <tr>\n",
       "      <th>1</th>\n",
       "      <td>0.166667</td>\n",
       "      <td>0.142857</td>\n",
       "    </tr>\n",
       "    <tr>\n",
       "      <th>2</th>\n",
       "      <td>0.333333</td>\n",
       "      <td>1.000000</td>\n",
       "    </tr>\n",
       "    <tr>\n",
       "      <th>3</th>\n",
       "      <td>0.666667</td>\n",
       "      <td>0.000000</td>\n",
       "    </tr>\n",
       "    <tr>\n",
       "      <th>4</th>\n",
       "      <td>1.000000</td>\n",
       "      <td>0.642857</td>\n",
       "    </tr>\n",
       "  </tbody>\n",
       "</table>\n",
       "</div>"
      ],
      "text/plain": [
       "   scalled 1  scalled 2\n",
       "0   0.000000   0.357143\n",
       "1   0.166667   0.142857\n",
       "2   0.333333   1.000000\n",
       "3   0.666667   0.000000\n",
       "4   1.000000   0.642857"
      ]
     },
     "execution_count": 27,
     "metadata": {},
     "output_type": "execute_result"
    }
   ],
   "source": [
    "scalled_df"
   ]
  },
  {
   "cell_type": "code",
   "execution_count": null,
   "id": "61c9a067-0254-4a87-8001-63aba06d09e3",
   "metadata": {},
   "outputs": [],
   "source": []
  }
 ],
 "metadata": {
  "kernelspec": {
   "display_name": "Python 3 (ipykernel)",
   "language": "python",
   "name": "python3"
  },
  "language_info": {
   "codemirror_mode": {
    "name": "ipython",
    "version": 3
   },
   "file_extension": ".py",
   "mimetype": "text/x-python",
   "name": "python",
   "nbconvert_exporter": "python",
   "pygments_lexer": "ipython3",
   "version": "3.11.7"
  }
 },
 "nbformat": 4,
 "nbformat_minor": 5
}
