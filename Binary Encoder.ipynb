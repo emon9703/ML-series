{
 "cells": [
  {
   "cell_type": "code",
   "execution_count": 3,
   "id": "cd5a87fd-2323-4810-a2b6-2eb331d11d2a",
   "metadata": {},
   "outputs": [],
   "source": [
    "import pandas as pd\n",
    "import category_encoders as ce"
   ]
  },
  {
   "cell_type": "code",
   "execution_count": 4,
   "id": "b01b20db-6ac5-47a6-9c99-9debd0af0383",
   "metadata": {},
   "outputs": [],
   "source": [
    "data = pd.read_csv('car speed1.csv')"
   ]
  },
  {
   "cell_type": "code",
   "execution_count": 5,
   "id": "497e5bc5-5d11-4ca5-a80c-9923177618ec",
   "metadata": {},
   "outputs": [
    {
     "data": {
      "text/html": [
       "<div>\n",
       "<style scoped>\n",
       "    .dataframe tbody tr th:only-of-type {\n",
       "        vertical-align: middle;\n",
       "    }\n",
       "\n",
       "    .dataframe tbody tr th {\n",
       "        vertical-align: top;\n",
       "    }\n",
       "\n",
       "    .dataframe thead th {\n",
       "        text-align: right;\n",
       "    }\n",
       "</style>\n",
       "<table border=\"1\" class=\"dataframe\">\n",
       "  <thead>\n",
       "    <tr style=\"text-align: right;\">\n",
       "      <th></th>\n",
       "      <th>car speed</th>\n",
       "      <th>age</th>\n",
       "      <th>experience</th>\n",
       "      <th>risk</th>\n",
       "      <th>car</th>\n",
       "    </tr>\n",
       "  </thead>\n",
       "  <tbody>\n",
       "    <tr>\n",
       "      <th>0</th>\n",
       "      <td>80</td>\n",
       "      <td>5.5</td>\n",
       "      <td>4</td>\n",
       "      <td>50</td>\n",
       "      <td>A</td>\n",
       "    </tr>\n",
       "    <tr>\n",
       "      <th>1</th>\n",
       "      <td>85</td>\n",
       "      <td>3.0</td>\n",
       "      <td>7</td>\n",
       "      <td>35</td>\n",
       "      <td>B</td>\n",
       "    </tr>\n",
       "    <tr>\n",
       "      <th>2</th>\n",
       "      <td>70</td>\n",
       "      <td>3.0</td>\n",
       "      <td>5</td>\n",
       "      <td>40</td>\n",
       "      <td>C</td>\n",
       "    </tr>\n",
       "    <tr>\n",
       "      <th>3</th>\n",
       "      <td>90</td>\n",
       "      <td>2.0</td>\n",
       "      <td>4</td>\n",
       "      <td>70</td>\n",
       "      <td>B</td>\n",
       "    </tr>\n",
       "    <tr>\n",
       "      <th>4</th>\n",
       "      <td>55</td>\n",
       "      <td>4.0</td>\n",
       "      <td>5</td>\n",
       "      <td>35</td>\n",
       "      <td>A</td>\n",
       "    </tr>\n",
       "    <tr>\n",
       "      <th>5</th>\n",
       "      <td>100</td>\n",
       "      <td>2.0</td>\n",
       "      <td>10</td>\n",
       "      <td>60</td>\n",
       "      <td>C</td>\n",
       "    </tr>\n",
       "  </tbody>\n",
       "</table>\n",
       "</div>"
      ],
      "text/plain": [
       "   car speed  age  experience  risk car\n",
       "0         80  5.5           4    50   A\n",
       "1         85  3.0           7    35   B\n",
       "2         70  3.0           5    40   C\n",
       "3         90  2.0           4    70   B\n",
       "4         55  4.0           5    35   A\n",
       "5        100  2.0          10    60   C"
      ]
     },
     "execution_count": 5,
     "metadata": {},
     "output_type": "execute_result"
    }
   ],
   "source": [
    "data"
   ]
  },
  {
   "cell_type": "code",
   "execution_count": 6,
   "id": "1cd00b13-fb28-4a07-b11d-dd35130d6c41",
   "metadata": {},
   "outputs": [],
   "source": [
    "encoder = ce.BinaryEncoder(cols = ['car'], return_df= True)"
   ]
  },
  {
   "cell_type": "code",
   "execution_count": 7,
   "id": "8509a378-9e78-4f04-8d8b-8386675146dc",
   "metadata": {},
   "outputs": [
    {
     "data": {
      "text/html": [
       "<div>\n",
       "<style scoped>\n",
       "    .dataframe tbody tr th:only-of-type {\n",
       "        vertical-align: middle;\n",
       "    }\n",
       "\n",
       "    .dataframe tbody tr th {\n",
       "        vertical-align: top;\n",
       "    }\n",
       "\n",
       "    .dataframe thead th {\n",
       "        text-align: right;\n",
       "    }\n",
       "</style>\n",
       "<table border=\"1\" class=\"dataframe\">\n",
       "  <thead>\n",
       "    <tr style=\"text-align: right;\">\n",
       "      <th></th>\n",
       "      <th>car speed</th>\n",
       "      <th>age</th>\n",
       "      <th>experience</th>\n",
       "      <th>risk</th>\n",
       "      <th>car_0</th>\n",
       "      <th>car_1</th>\n",
       "    </tr>\n",
       "  </thead>\n",
       "  <tbody>\n",
       "    <tr>\n",
       "      <th>0</th>\n",
       "      <td>80</td>\n",
       "      <td>5.5</td>\n",
       "      <td>4</td>\n",
       "      <td>50</td>\n",
       "      <td>0</td>\n",
       "      <td>1</td>\n",
       "    </tr>\n",
       "    <tr>\n",
       "      <th>1</th>\n",
       "      <td>85</td>\n",
       "      <td>3.0</td>\n",
       "      <td>7</td>\n",
       "      <td>35</td>\n",
       "      <td>1</td>\n",
       "      <td>0</td>\n",
       "    </tr>\n",
       "    <tr>\n",
       "      <th>2</th>\n",
       "      <td>70</td>\n",
       "      <td>3.0</td>\n",
       "      <td>5</td>\n",
       "      <td>40</td>\n",
       "      <td>1</td>\n",
       "      <td>1</td>\n",
       "    </tr>\n",
       "    <tr>\n",
       "      <th>3</th>\n",
       "      <td>90</td>\n",
       "      <td>2.0</td>\n",
       "      <td>4</td>\n",
       "      <td>70</td>\n",
       "      <td>1</td>\n",
       "      <td>0</td>\n",
       "    </tr>\n",
       "    <tr>\n",
       "      <th>4</th>\n",
       "      <td>55</td>\n",
       "      <td>4.0</td>\n",
       "      <td>5</td>\n",
       "      <td>35</td>\n",
       "      <td>0</td>\n",
       "      <td>1</td>\n",
       "    </tr>\n",
       "    <tr>\n",
       "      <th>5</th>\n",
       "      <td>100</td>\n",
       "      <td>2.0</td>\n",
       "      <td>10</td>\n",
       "      <td>60</td>\n",
       "      <td>1</td>\n",
       "      <td>1</td>\n",
       "    </tr>\n",
       "  </tbody>\n",
       "</table>\n",
       "</div>"
      ],
      "text/plain": [
       "   car speed  age  experience  risk  car_0  car_1\n",
       "0         80  5.5           4    50      0      1\n",
       "1         85  3.0           7    35      1      0\n",
       "2         70  3.0           5    40      1      1\n",
       "3         90  2.0           4    70      1      0\n",
       "4         55  4.0           5    35      0      1\n",
       "5        100  2.0          10    60      1      1"
      ]
     },
     "execution_count": 7,
     "metadata": {},
     "output_type": "execute_result"
    }
   ],
   "source": [
    "binary_encoded = encoder.fit_transform(data)\n",
    "binary_encoded"
   ]
  },
  {
   "cell_type": "code",
   "execution_count": 8,
   "id": "798d02d6-4fdd-4efc-993f-9af9595c8e52",
   "metadata": {},
   "outputs": [
    {
     "name": "stdout",
     "output_type": "stream",
     "text": [
      "   car_0  car_1  speed  age  experience  risk\n",
      "0      0      1     80  5.5           4    50\n",
      "1      1      0     85  3.0           7    35\n",
      "2      1      1     70  3.0           5    40\n",
      "3      1      0     90  2.0           4    70\n",
      "4      0      1     55  4.0           5    35\n",
      "5      1      1    100  2.0          10    60\n"
     ]
    }
   ],
   "source": [
    "import pandas as pd\n",
    "import category_encoders as ce\n",
    "\n",
    "# Sample data\n",
    "data = pd.DataFrame({\n",
    "    'car': ['A', 'B', 'C', 'B', 'A', 'C'],\n",
    "    'speed': [80, 85, 70, 90, 55, 100],\n",
    "    'age': [5.5, 3.0, 3.0, 2.0, 4.0, 2.0],\n",
    "    'experience': [4, 7, 5, 4, 5, 10],\n",
    "    'risk': [50, 35, 40, 70, 35, 60]\n",
    "})\n",
    "\n",
    "# Initialize the binary encoder\n",
    "encoder = ce.BinaryEncoder(cols=['car'])\n",
    "\n",
    "# Fit and transform the data\n",
    "encoded_data = encoder.fit_transform(data)\n",
    "\n",
    "print(encoded_data)\n"
   ]
  },
  {
   "cell_type": "code",
   "execution_count": null,
   "id": "0375d9ba-feba-482e-83fd-fdb15ce9b590",
   "metadata": {},
   "outputs": [],
   "source": []
  }
 ],
 "metadata": {
  "kernelspec": {
   "display_name": "Python 3 (ipykernel)",
   "language": "python",
   "name": "python3"
  },
  "language_info": {
   "codemirror_mode": {
    "name": "ipython",
    "version": 3
   },
   "file_extension": ".py",
   "mimetype": "text/x-python",
   "name": "python",
   "nbconvert_exporter": "python",
   "pygments_lexer": "ipython3",
   "version": "3.11.7"
  }
 },
 "nbformat": 4,
 "nbformat_minor": 5
}
