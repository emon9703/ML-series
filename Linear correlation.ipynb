{
 "cells": [
  {
   "cell_type": "code",
   "execution_count": 1,
   "id": "b91657f1-568e-4d20-87a3-398b7d430189",
   "metadata": {},
   "outputs": [],
   "source": [
    "import pandas as pd"
   ]
  },
  {
   "cell_type": "code",
   "execution_count": 2,
   "id": "c8df56d9-a0ab-4df1-81b9-6b119da3b4b3",
   "metadata": {},
   "outputs": [],
   "source": [
    "data = pd.read_csv('BP prediction.csv')"
   ]
  },
  {
   "cell_type": "code",
   "execution_count": 3,
   "id": "b837a4c3-7cce-4d42-b60b-785f42258c71",
   "metadata": {},
   "outputs": [
    {
     "data": {
      "text/html": [
       "<div>\n",
       "<style scoped>\n",
       "    .dataframe tbody tr th:only-of-type {\n",
       "        vertical-align: middle;\n",
       "    }\n",
       "\n",
       "    .dataframe tbody tr th {\n",
       "        vertical-align: top;\n",
       "    }\n",
       "\n",
       "    .dataframe thead th {\n",
       "        text-align: right;\n",
       "    }\n",
       "</style>\n",
       "<table border=\"1\" class=\"dataframe\">\n",
       "  <thead>\n",
       "    <tr style=\"text-align: right;\">\n",
       "      <th></th>\n",
       "      <th>Name</th>\n",
       "      <th>Age</th>\n",
       "      <th>Height</th>\n",
       "      <th>Weight</th>\n",
       "      <th>High BP%</th>\n",
       "    </tr>\n",
       "  </thead>\n",
       "  <tbody>\n",
       "    <tr>\n",
       "      <th>0</th>\n",
       "      <td>John Doe</td>\n",
       "      <td>28</td>\n",
       "      <td>175</td>\n",
       "      <td>70</td>\n",
       "      <td>30</td>\n",
       "    </tr>\n",
       "    <tr>\n",
       "      <th>1</th>\n",
       "      <td>Jane Smith</td>\n",
       "      <td>34</td>\n",
       "      <td>160</td>\n",
       "      <td>60</td>\n",
       "      <td>35</td>\n",
       "    </tr>\n",
       "    <tr>\n",
       "      <th>2</th>\n",
       "      <td>Alice Johnson</td>\n",
       "      <td>23</td>\n",
       "      <td>168</td>\n",
       "      <td>58</td>\n",
       "      <td>20</td>\n",
       "    </tr>\n",
       "    <tr>\n",
       "      <th>3</th>\n",
       "      <td>Bob Brown</td>\n",
       "      <td>45</td>\n",
       "      <td>180</td>\n",
       "      <td>85</td>\n",
       "      <td>60</td>\n",
       "    </tr>\n",
       "    <tr>\n",
       "      <th>4</th>\n",
       "      <td>Mary Davis</td>\n",
       "      <td>29</td>\n",
       "      <td>155</td>\n",
       "      <td>50</td>\n",
       "      <td>25</td>\n",
       "    </tr>\n",
       "    <tr>\n",
       "      <th>5</th>\n",
       "      <td>Charlie Wilson</td>\n",
       "      <td>31</td>\n",
       "      <td>172</td>\n",
       "      <td>65</td>\n",
       "      <td>30</td>\n",
       "    </tr>\n",
       "    <tr>\n",
       "      <th>6</th>\n",
       "      <td>Emily Clark</td>\n",
       "      <td>22</td>\n",
       "      <td>165</td>\n",
       "      <td>54</td>\n",
       "      <td>15</td>\n",
       "    </tr>\n",
       "    <tr>\n",
       "      <th>7</th>\n",
       "      <td>James Lewis</td>\n",
       "      <td>37</td>\n",
       "      <td>178</td>\n",
       "      <td>77</td>\n",
       "      <td>55</td>\n",
       "    </tr>\n",
       "    <tr>\n",
       "      <th>8</th>\n",
       "      <td>Sarah Robinson</td>\n",
       "      <td>40</td>\n",
       "      <td>162</td>\n",
       "      <td>62</td>\n",
       "      <td>40</td>\n",
       "    </tr>\n",
       "    <tr>\n",
       "      <th>9</th>\n",
       "      <td>Michael Young</td>\n",
       "      <td>33</td>\n",
       "      <td>170</td>\n",
       "      <td>68</td>\n",
       "      <td>30</td>\n",
       "    </tr>\n",
       "  </tbody>\n",
       "</table>\n",
       "</div>"
      ],
      "text/plain": [
       "             Name  Age  Height  Weight  High BP%\n",
       "0        John Doe   28     175      70        30\n",
       "1      Jane Smith   34     160      60        35\n",
       "2   Alice Johnson   23     168      58        20\n",
       "3       Bob Brown   45     180      85        60\n",
       "4      Mary Davis   29     155      50        25\n",
       "5  Charlie Wilson   31     172      65        30\n",
       "6     Emily Clark   22     165      54        15\n",
       "7     James Lewis   37     178      77        55\n",
       "8  Sarah Robinson   40     162      62        40\n",
       "9   Michael Young   33     170      68        30"
      ]
     },
     "execution_count": 3,
     "metadata": {},
     "output_type": "execute_result"
    }
   ],
   "source": [
    "data"
   ]
  },
  {
   "cell_type": "code",
   "execution_count": 4,
   "id": "3a90c442-922a-410d-8c4a-1d6a2d2962f2",
   "metadata": {},
   "outputs": [],
   "source": [
    "BP = data['Age'].corr(data['High BP%'])"
   ]
  },
  {
   "cell_type": "code",
   "execution_count": 5,
   "id": "e1596725-0d68-465d-b6be-348da95e323f",
   "metadata": {},
   "outputs": [
    {
     "data": {
      "text/plain": [
       "0.9165721121157853"
      ]
     },
     "execution_count": 5,
     "metadata": {},
     "output_type": "execute_result"
    }
   ],
   "source": [
    "BP"
   ]
  },
  {
   "cell_type": "code",
   "execution_count": null,
   "id": "57dd2a72-8f5a-4f4a-bded-0616078538db",
   "metadata": {},
   "outputs": [],
   "source": []
  }
 ],
 "metadata": {
  "kernelspec": {
   "display_name": "Python 3 (ipykernel)",
   "language": "python",
   "name": "python3"
  },
  "language_info": {
   "codemirror_mode": {
    "name": "ipython",
    "version": 3
   },
   "file_extension": ".py",
   "mimetype": "text/x-python",
   "name": "python",
   "nbconvert_exporter": "python",
   "pygments_lexer": "ipython3",
   "version": "3.11.7"
  }
 },
 "nbformat": 4,
 "nbformat_minor": 5
}
