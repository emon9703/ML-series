{
 "cells": [
  {
   "cell_type": "code",
   "execution_count": 1,
   "id": "c1141045-3306-4d69-b745-56a487214d7f",
   "metadata": {},
   "outputs": [],
   "source": [
    "import pandas as pd\n",
    "from sklearn.preprocessing import OrdinalEncoder"
   ]
  },
  {
   "cell_type": "code",
   "execution_count": 2,
   "id": "3603e63f-8f81-4594-9078-435c40ce2e8e",
   "metadata": {},
   "outputs": [],
   "source": [
    "data = pd.read_csv('car speed2.csv')"
   ]
  },
  {
   "cell_type": "code",
   "execution_count": 3,
   "id": "07d92fca-6d95-4dec-88f4-9736bf30ae4c",
   "metadata": {},
   "outputs": [
    {
     "data": {
      "text/html": [
       "<div>\n",
       "<style scoped>\n",
       "    .dataframe tbody tr th:only-of-type {\n",
       "        vertical-align: middle;\n",
       "    }\n",
       "\n",
       "    .dataframe tbody tr th {\n",
       "        vertical-align: top;\n",
       "    }\n",
       "\n",
       "    .dataframe thead th {\n",
       "        text-align: right;\n",
       "    }\n",
       "</style>\n",
       "<table border=\"1\" class=\"dataframe\">\n",
       "  <thead>\n",
       "    <tr style=\"text-align: right;\">\n",
       "      <th></th>\n",
       "      <th>car speed</th>\n",
       "      <th>age</th>\n",
       "      <th>experience</th>\n",
       "      <th>risk</th>\n",
       "      <th>car</th>\n",
       "      <th>Review</th>\n",
       "    </tr>\n",
       "  </thead>\n",
       "  <tbody>\n",
       "    <tr>\n",
       "      <th>0</th>\n",
       "      <td>80</td>\n",
       "      <td>5.5</td>\n",
       "      <td>4</td>\n",
       "      <td>50</td>\n",
       "      <td>A</td>\n",
       "      <td>Average</td>\n",
       "    </tr>\n",
       "    <tr>\n",
       "      <th>1</th>\n",
       "      <td>85</td>\n",
       "      <td>3.0</td>\n",
       "      <td>7</td>\n",
       "      <td>35</td>\n",
       "      <td>B</td>\n",
       "      <td>Good</td>\n",
       "    </tr>\n",
       "    <tr>\n",
       "      <th>2</th>\n",
       "      <td>70</td>\n",
       "      <td>3.0</td>\n",
       "      <td>5</td>\n",
       "      <td>40</td>\n",
       "      <td>C</td>\n",
       "      <td>Average</td>\n",
       "    </tr>\n",
       "    <tr>\n",
       "      <th>3</th>\n",
       "      <td>90</td>\n",
       "      <td>2.0</td>\n",
       "      <td>4</td>\n",
       "      <td>70</td>\n",
       "      <td>B</td>\n",
       "      <td>Bad</td>\n",
       "    </tr>\n",
       "    <tr>\n",
       "      <th>4</th>\n",
       "      <td>55</td>\n",
       "      <td>4.0</td>\n",
       "      <td>5</td>\n",
       "      <td>35</td>\n",
       "      <td>A</td>\n",
       "      <td>Good</td>\n",
       "    </tr>\n",
       "    <tr>\n",
       "      <th>5</th>\n",
       "      <td>100</td>\n",
       "      <td>2.0</td>\n",
       "      <td>10</td>\n",
       "      <td>60</td>\n",
       "      <td>C</td>\n",
       "      <td>Bad</td>\n",
       "    </tr>\n",
       "  </tbody>\n",
       "</table>\n",
       "</div>"
      ],
      "text/plain": [
       "   car speed  age  experience  risk car   Review\n",
       "0         80  5.5           4    50   A  Average\n",
       "1         85  3.0           7    35   B     Good\n",
       "2         70  3.0           5    40   C  Average\n",
       "3         90  2.0           4    70   B      Bad\n",
       "4         55  4.0           5    35   A     Good\n",
       "5        100  2.0          10    60   C      Bad"
      ]
     },
     "execution_count": 3,
     "metadata": {},
     "output_type": "execute_result"
    }
   ],
   "source": [
    "data"
   ]
  },
  {
   "cell_type": "code",
   "execution_count": 4,
   "id": "57c61426-3268-4797-9f0d-54669f944a21",
   "metadata": {},
   "outputs": [
    {
     "data": {
      "text/plain": [
       "[['Good', 'Average', 'Bad']]"
      ]
     },
     "execution_count": 4,
     "metadata": {},
     "output_type": "execute_result"
    }
   ],
   "source": [
    "categories = [['Good','Average','Bad']]\n",
    "categories"
   ]
  },
  {
   "cell_type": "code",
   "execution_count": 5,
   "id": "0741dfba-fd09-43a4-a5ed-3e949c88b426",
   "metadata": {},
   "outputs": [],
   "source": [
    "encoder = OrdinalEncoder(categories=categories)"
   ]
  },
  {
   "cell_type": "code",
   "execution_count": 6,
   "id": "55fa6ca3-e5f8-4d49-902f-e51eac1537cd",
   "metadata": {},
   "outputs": [
    {
     "data": {
      "text/plain": [
       "array([[1.],\n",
       "       [0.],\n",
       "       [1.],\n",
       "       [2.],\n",
       "       [0.],\n",
       "       [2.]])"
      ]
     },
     "execution_count": 6,
     "metadata": {},
     "output_type": "execute_result"
    }
   ],
   "source": [
    "encoded_data = encoder.fit_transform(data[['Review']])\n",
    "encoded_data"
   ]
  },
  {
   "cell_type": "code",
   "execution_count": 7,
   "id": "9efc7e38-e8f2-46e0-94cd-422bce972717",
   "metadata": {},
   "outputs": [
    {
     "data": {
      "text/html": [
       "<div>\n",
       "<style scoped>\n",
       "    .dataframe tbody tr th:only-of-type {\n",
       "        vertical-align: middle;\n",
       "    }\n",
       "\n",
       "    .dataframe tbody tr th {\n",
       "        vertical-align: top;\n",
       "    }\n",
       "\n",
       "    .dataframe thead th {\n",
       "        text-align: right;\n",
       "    }\n",
       "</style>\n",
       "<table border=\"1\" class=\"dataframe\">\n",
       "  <thead>\n",
       "    <tr style=\"text-align: right;\">\n",
       "      <th></th>\n",
       "      <th>car speed</th>\n",
       "      <th>age</th>\n",
       "      <th>experience</th>\n",
       "      <th>risk</th>\n",
       "      <th>car</th>\n",
       "      <th>Review</th>\n",
       "      <th>Encoded_review</th>\n",
       "    </tr>\n",
       "  </thead>\n",
       "  <tbody>\n",
       "    <tr>\n",
       "      <th>0</th>\n",
       "      <td>80</td>\n",
       "      <td>5.5</td>\n",
       "      <td>4</td>\n",
       "      <td>50</td>\n",
       "      <td>A</td>\n",
       "      <td>Average</td>\n",
       "      <td>1.0</td>\n",
       "    </tr>\n",
       "    <tr>\n",
       "      <th>1</th>\n",
       "      <td>85</td>\n",
       "      <td>3.0</td>\n",
       "      <td>7</td>\n",
       "      <td>35</td>\n",
       "      <td>B</td>\n",
       "      <td>Good</td>\n",
       "      <td>0.0</td>\n",
       "    </tr>\n",
       "    <tr>\n",
       "      <th>2</th>\n",
       "      <td>70</td>\n",
       "      <td>3.0</td>\n",
       "      <td>5</td>\n",
       "      <td>40</td>\n",
       "      <td>C</td>\n",
       "      <td>Average</td>\n",
       "      <td>1.0</td>\n",
       "    </tr>\n",
       "    <tr>\n",
       "      <th>3</th>\n",
       "      <td>90</td>\n",
       "      <td>2.0</td>\n",
       "      <td>4</td>\n",
       "      <td>70</td>\n",
       "      <td>B</td>\n",
       "      <td>Bad</td>\n",
       "      <td>2.0</td>\n",
       "    </tr>\n",
       "    <tr>\n",
       "      <th>4</th>\n",
       "      <td>55</td>\n",
       "      <td>4.0</td>\n",
       "      <td>5</td>\n",
       "      <td>35</td>\n",
       "      <td>A</td>\n",
       "      <td>Good</td>\n",
       "      <td>0.0</td>\n",
       "    </tr>\n",
       "    <tr>\n",
       "      <th>5</th>\n",
       "      <td>100</td>\n",
       "      <td>2.0</td>\n",
       "      <td>10</td>\n",
       "      <td>60</td>\n",
       "      <td>C</td>\n",
       "      <td>Bad</td>\n",
       "      <td>2.0</td>\n",
       "    </tr>\n",
       "  </tbody>\n",
       "</table>\n",
       "</div>"
      ],
      "text/plain": [
       "   car speed  age  experience  risk car   Review  Encoded_review\n",
       "0         80  5.5           4    50   A  Average             1.0\n",
       "1         85  3.0           7    35   B     Good             0.0\n",
       "2         70  3.0           5    40   C  Average             1.0\n",
       "3         90  2.0           4    70   B      Bad             2.0\n",
       "4         55  4.0           5    35   A     Good             0.0\n",
       "5        100  2.0          10    60   C      Bad             2.0"
      ]
     },
     "execution_count": 7,
     "metadata": {},
     "output_type": "execute_result"
    }
   ],
   "source": [
    "data['Encoded_review'] = encoded_data\n",
    "data"
   ]
  },
  {
   "cell_type": "code",
   "execution_count": null,
   "id": "74c949ec-d10c-4f86-8556-661daba4d991",
   "metadata": {},
   "outputs": [],
   "source": []
  },
  {
   "cell_type": "code",
   "execution_count": 8,
   "id": "91036a8a-99c2-4b32-bb52-4ea69ebd3c4f",
   "metadata": {},
   "outputs": [
    {
     "data": {
      "text/plain": [
       "array([[2.],\n",
       "       [0.],\n",
       "       [1.],\n",
       "       [2.],\n",
       "       [0.],\n",
       "       [1.]])"
      ]
     },
     "execution_count": 8,
     "metadata": {},
     "output_type": "execute_result"
    }
   ],
   "source": [
    "import pandas as pd\n",
    "from sklearn.preprocessing import OrdinalEncoder\n",
    "\n",
    "# Create the DataFrame with the provided data\n",
    "data = pd.DataFrame({\n",
    "    'car': ['A', 'B', 'C', 'B', 'A', 'C'],\n",
    "    'speed': [80, 85, 70, 90, 55, 100],\n",
    "    'age': [5.5, 3.0, 3.0, 2.0, 4.0, 2.0],\n",
    "    'experience': [4, 7, 5, 4, 5, 10],\n",
    "    'risk': [50, 35, 40, 70, 35, 60],\n",
    "    'Review': ['Good', 'Bad', 'Average', 'Good', 'Bad', 'Average']\n",
    "})\n",
    "\n",
    "# Define unique categories for the 'Review' column\n",
    "categories = [['Bad', 'Average', 'Good']]\n",
    "\n",
    "# Initialize the ordinal encoder\n",
    "encoder = OrdinalEncoder(categories=categories)\n",
    "\n",
    "# Fit and transform the 'Review' column\n",
    "encoded_data = encoder.fit_transform(data[['Review']])\n",
    "encoded_data\n"
   ]
  },
  {
   "cell_type": "code",
   "execution_count": null,
   "id": "0e9c8c7a-a204-43a6-9d34-b96cf5cdf952",
   "metadata": {},
   "outputs": [],
   "source": []
  }
 ],
 "metadata": {
  "kernelspec": {
   "display_name": "Python 3 (ipykernel)",
   "language": "python",
   "name": "python3"
  },
  "language_info": {
   "codemirror_mode": {
    "name": "ipython",
    "version": 3
   },
   "file_extension": ".py",
   "mimetype": "text/x-python",
   "name": "python",
   "nbconvert_exporter": "python",
   "pygments_lexer": "ipython3",
   "version": "3.11.7"
  }
 },
 "nbformat": 4,
 "nbformat_minor": 5
}
