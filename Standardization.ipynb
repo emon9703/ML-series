{
 "cells": [
  {
   "cell_type": "markdown",
   "id": "0ef29f5f-1d3c-4e91-a79e-3c308e9188b2",
   "metadata": {},
   "source": [
    "***Row code***"
   ]
  },
  {
   "cell_type": "code",
   "execution_count": 1,
   "id": "94ba12f3-2a72-4227-b9db-e36bf2b25320",
   "metadata": {},
   "outputs": [],
   "source": [
    "import pandas as pd"
   ]
  },
  {
   "cell_type": "code",
   "execution_count": 2,
   "id": "47cbe268-459a-4bd5-acc0-acf6ba9a6634",
   "metadata": {},
   "outputs": [],
   "source": [
    "data = {'feature 1 ':[1,20,3,40,5],\n",
    "        'Feature 2 ':[6,7,18,19,10]}"
   ]
  },
  {
   "cell_type": "code",
   "execution_count": 3,
   "id": "95b4e48b-8024-4298-ae47-819944bbb5e4",
   "metadata": {},
   "outputs": [],
   "source": [
    "df = pd.DataFrame(data)"
   ]
  },
  {
   "cell_type": "code",
   "execution_count": 4,
   "id": "d1395c46-4f52-4a03-a335-0fb19797ccc0",
   "metadata": {},
   "outputs": [
    {
     "data": {
      "text/html": [
       "<div>\n",
       "<style scoped>\n",
       "    .dataframe tbody tr th:only-of-type {\n",
       "        vertical-align: middle;\n",
       "    }\n",
       "\n",
       "    .dataframe tbody tr th {\n",
       "        vertical-align: top;\n",
       "    }\n",
       "\n",
       "    .dataframe thead th {\n",
       "        text-align: right;\n",
       "    }\n",
       "</style>\n",
       "<table border=\"1\" class=\"dataframe\">\n",
       "  <thead>\n",
       "    <tr style=\"text-align: right;\">\n",
       "      <th></th>\n",
       "      <th>feature 1</th>\n",
       "      <th>Feature 2</th>\n",
       "    </tr>\n",
       "  </thead>\n",
       "  <tbody>\n",
       "    <tr>\n",
       "      <th>0</th>\n",
       "      <td>1</td>\n",
       "      <td>6</td>\n",
       "    </tr>\n",
       "    <tr>\n",
       "      <th>1</th>\n",
       "      <td>20</td>\n",
       "      <td>7</td>\n",
       "    </tr>\n",
       "    <tr>\n",
       "      <th>2</th>\n",
       "      <td>3</td>\n",
       "      <td>18</td>\n",
       "    </tr>\n",
       "    <tr>\n",
       "      <th>3</th>\n",
       "      <td>40</td>\n",
       "      <td>19</td>\n",
       "    </tr>\n",
       "    <tr>\n",
       "      <th>4</th>\n",
       "      <td>5</td>\n",
       "      <td>10</td>\n",
       "    </tr>\n",
       "  </tbody>\n",
       "</table>\n",
       "</div>"
      ],
      "text/plain": [
       "   feature 1   Feature 2 \n",
       "0           1           6\n",
       "1          20           7\n",
       "2           3          18\n",
       "3          40          19\n",
       "4           5          10"
      ]
     },
     "execution_count": 4,
     "metadata": {},
     "output_type": "execute_result"
    }
   ],
   "source": [
    "df"
   ]
  },
  {
   "cell_type": "code",
   "execution_count": 5,
   "id": "c83d891d-fcbb-4710-af1c-7e94f1ebb231",
   "metadata": {},
   "outputs": [],
   "source": [
    "def Standardization_data(values):\n",
    "    mean = values.mean()\n",
    "    std_dv = values.std(ddof = 0) # delta degree of freedom n-1\n",
    "    final_Standardization = [(x - mean) / (std_dv) for x in values]\n",
    "    return final_Standardization"
   ]
  },
  {
   "cell_type": "code",
   "execution_count": 6,
   "id": "7b827b94-01d9-40b7-81ad-7466cb51bcc1",
   "metadata": {},
   "outputs": [],
   "source": [
    "Standardization = df.apply(Standardization_data)"
   ]
  },
  {
   "cell_type": "code",
   "execution_count": 7,
   "id": "2a75527b-44dd-499b-95a5-15ff565440d2",
   "metadata": {},
   "outputs": [
    {
     "name": "stdout",
     "output_type": "stream",
     "text": [
      "original data\n",
      "\n",
      "   feature 1   Feature 2 \n",
      "0           1           6\n",
      "1          20           7\n",
      "2           3          18\n",
      "3          40          19\n",
      "4           5          10\n",
      "Standardization data\n",
      "   feature 1   Feature 2 \n",
      "0   -0.869803   -1.095445\n",
      "1    0.421311   -0.912871\n",
      "2   -0.733896    1.095445\n",
      "3    1.780378    1.278019\n",
      "4   -0.597989   -0.365148\n"
     ]
    }
   ],
   "source": [
    "print(\"original data\\n\")\n",
    "print(df)\n",
    "print(\"Standardization data\")\n",
    "print(Standardization)"
   ]
  },
  {
   "cell_type": "markdown",
   "id": "94565643-4b1c-4a58-882f-b4a5c9679a68",
   "metadata": {},
   "source": [
    "***Using Sklear***"
   ]
  },
  {
   "cell_type": "code",
   "execution_count": 8,
   "id": "9b7c1d2d-8af4-4027-a632-708037cbfd40",
   "metadata": {},
   "outputs": [],
   "source": [
    "import pandas as pd\n",
    "from sklearn.preprocessing import StandardScaler"
   ]
  },
  {
   "cell_type": "code",
   "execution_count": 9,
   "id": "e53a86b3-d982-4ca6-8b3a-ed98aec59eab",
   "metadata": {},
   "outputs": [],
   "source": [
    "data = {'feature 1 ':[1,20,3,40,5],\n",
    "        'Feature 2 ':[6,7,18,19,10]}"
   ]
  },
  {
   "cell_type": "code",
   "execution_count": 10,
   "id": "4077a641-3cea-4162-8a35-59b819fdb686",
   "metadata": {},
   "outputs": [],
   "source": [
    "df = pd.DataFrame(data)"
   ]
  },
  {
   "cell_type": "code",
   "execution_count": 11,
   "id": "06eef22f-232c-4eb6-b1e0-0447dbc9b3e5",
   "metadata": {},
   "outputs": [
    {
     "data": {
      "text/html": [
       "<div>\n",
       "<style scoped>\n",
       "    .dataframe tbody tr th:only-of-type {\n",
       "        vertical-align: middle;\n",
       "    }\n",
       "\n",
       "    .dataframe tbody tr th {\n",
       "        vertical-align: top;\n",
       "    }\n",
       "\n",
       "    .dataframe thead th {\n",
       "        text-align: right;\n",
       "    }\n",
       "</style>\n",
       "<table border=\"1\" class=\"dataframe\">\n",
       "  <thead>\n",
       "    <tr style=\"text-align: right;\">\n",
       "      <th></th>\n",
       "      <th>feature 1</th>\n",
       "      <th>Feature 2</th>\n",
       "    </tr>\n",
       "  </thead>\n",
       "  <tbody>\n",
       "    <tr>\n",
       "      <th>0</th>\n",
       "      <td>1</td>\n",
       "      <td>6</td>\n",
       "    </tr>\n",
       "    <tr>\n",
       "      <th>1</th>\n",
       "      <td>20</td>\n",
       "      <td>7</td>\n",
       "    </tr>\n",
       "    <tr>\n",
       "      <th>2</th>\n",
       "      <td>3</td>\n",
       "      <td>18</td>\n",
       "    </tr>\n",
       "    <tr>\n",
       "      <th>3</th>\n",
       "      <td>40</td>\n",
       "      <td>19</td>\n",
       "    </tr>\n",
       "    <tr>\n",
       "      <th>4</th>\n",
       "      <td>5</td>\n",
       "      <td>10</td>\n",
       "    </tr>\n",
       "  </tbody>\n",
       "</table>\n",
       "</div>"
      ],
      "text/plain": [
       "   feature 1   Feature 2 \n",
       "0           1           6\n",
       "1          20           7\n",
       "2           3          18\n",
       "3          40          19\n",
       "4           5          10"
      ]
     },
     "execution_count": 11,
     "metadata": {},
     "output_type": "execute_result"
    }
   ],
   "source": [
    "df"
   ]
  },
  {
   "cell_type": "code",
   "execution_count": 12,
   "id": "8ab58d41-8db7-42b9-8edc-05916486cf50",
   "metadata": {},
   "outputs": [],
   "source": [
    "Standardization = StandardScaler()\n",
    "Standardization_value = Standardization.fit_transform(df)"
   ]
  },
  {
   "cell_type": "code",
   "execution_count": 13,
   "id": "0f3fe180-cb7e-4a5b-a233-1a1673c445d9",
   "metadata": {},
   "outputs": [
    {
     "name": "stdout",
     "output_type": "stream",
     "text": [
      "Original data:\n",
      "\n",
      "   feature 1   Feature 2 \n",
      "0           1           6\n",
      "1          20           7\n",
      "2           3          18\n",
      "3          40          19\n",
      "4           5          10\n",
      "Row code data\n",
      "StandardScaler()\n",
      "Using Sklear method's data:\n",
      "\n",
      "[[-0.86980289 -1.09544512]\n",
      " [ 0.42131078 -0.91287093]\n",
      " [-0.73389619  1.09544512]\n",
      " [ 1.7803778   1.2780193 ]\n",
      " [-0.59798949 -0.36514837]]\n"
     ]
    }
   ],
   "source": [
    "print(\"Original data:\\n\")\n",
    "print(df)\n",
    "print(\"Row code data\")\n",
    "print(Standardization)\n",
    "print(\"Using Sklear method's data:\\n\")\n",
    "print(Standardization_value )"
   ]
  },
  {
   "cell_type": "code",
   "execution_count": null,
   "id": "1c784c5c-7f3f-4801-8e66-55214cf117a7",
   "metadata": {},
   "outputs": [],
   "source": []
  }
 ],
 "metadata": {
  "kernelspec": {
   "display_name": "Python 3 (ipykernel)",
   "language": "python",
   "name": "python3"
  },
  "language_info": {
   "codemirror_mode": {
    "name": "ipython",
    "version": 3
   },
   "file_extension": ".py",
   "mimetype": "text/x-python",
   "name": "python",
   "nbconvert_exporter": "python",
   "pygments_lexer": "ipython3",
   "version": "3.11.7"
  }
 },
 "nbformat": 4,
 "nbformat_minor": 5
}
