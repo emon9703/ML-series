{
 "cells": [
  {
   "cell_type": "code",
   "execution_count": 1,
   "id": "95231f7d-c2d6-49b0-a1bf-04fdfbd7afba",
   "metadata": {},
   "outputs": [],
   "source": [
    "import pandas as pd\n",
    "import numpy as np\n",
    "import matplotlib.pyplot as plt\n",
    "%matplotlib inline"
   ]
  },
  {
   "cell_type": "code",
   "execution_count": 2,
   "id": "dca71657-a957-4d70-bd39-a250e1cf9294",
   "metadata": {},
   "outputs": [],
   "source": [
    "dataset = pd.read_csv('data.csv')"
   ]
  },
  {
   "cell_type": "code",
   "execution_count": 3,
   "id": "d9f3967d-a41f-4d2f-829f-802cd7a44c0d",
   "metadata": {},
   "outputs": [
    {
     "data": {
      "text/html": [
       "<div>\n",
       "<style scoped>\n",
       "    .dataframe tbody tr th:only-of-type {\n",
       "        vertical-align: middle;\n",
       "    }\n",
       "\n",
       "    .dataframe tbody tr th {\n",
       "        vertical-align: top;\n",
       "    }\n",
       "\n",
       "    .dataframe thead th {\n",
       "        text-align: right;\n",
       "    }\n",
       "</style>\n",
       "<table border=\"1\" class=\"dataframe\">\n",
       "  <thead>\n",
       "    <tr style=\"text-align: right;\">\n",
       "      <th></th>\n",
       "      <th>Starting value</th>\n",
       "      <th>Ending value</th>\n",
       "    </tr>\n",
       "  </thead>\n",
       "  <tbody>\n",
       "    <tr>\n",
       "      <th>0</th>\n",
       "      <td>16000</td>\n",
       "      <td>15081</td>\n",
       "    </tr>\n",
       "    <tr>\n",
       "      <th>1</th>\n",
       "      <td>18000</td>\n",
       "      <td>18085</td>\n",
       "    </tr>\n",
       "    <tr>\n",
       "      <th>2</th>\n",
       "      <td>20000</td>\n",
       "      <td>19081</td>\n",
       "    </tr>\n",
       "    <tr>\n",
       "      <th>3</th>\n",
       "      <td>15086</td>\n",
       "      <td>16000</td>\n",
       "    </tr>\n",
       "    <tr>\n",
       "      <th>4</th>\n",
       "      <td>18075</td>\n",
       "      <td>19010</td>\n",
       "    </tr>\n",
       "  </tbody>\n",
       "</table>\n",
       "</div>"
      ],
      "text/plain": [
       "   Starting value  Ending value\n",
       "0           16000         15081\n",
       "1           18000         18085\n",
       "2           20000         19081\n",
       "3           15086         16000\n",
       "4           18075         19010"
      ]
     },
     "execution_count": 3,
     "metadata": {},
     "output_type": "execute_result"
    }
   ],
   "source": [
    "dataset"
   ]
  },
  {
   "cell_type": "code",
   "execution_count": 4,
   "id": "b3678edd-68ae-44e4-96a5-b18f6500f17a",
   "metadata": {},
   "outputs": [
    {
     "data": {
      "text/plain": [
       "Starting value    0\n",
       "Ending value      0\n",
       "dtype: int64"
      ]
     },
     "execution_count": 4,
     "metadata": {},
     "output_type": "execute_result"
    }
   ],
   "source": [
    "dataset.isnull().sum()"
   ]
  },
  {
   "cell_type": "code",
   "execution_count": 5,
   "id": "153c47da-e3f8-409f-9886-273fbe18e42f",
   "metadata": {},
   "outputs": [
    {
     "data": {
      "text/plain": [
       "Text(0.5, 1.0, 'money value fluctuations')"
      ]
     },
     "execution_count": 5,
     "metadata": {},
     "output_type": "execute_result"
    },
    {
     "data": {
      "image/png": "[encoded data removed]",
      "text/plain": [
       "<Figure size 640x480 with 1 Axes>"
      ]
     },
     "metadata": {},
     "output_type": "display_data"
    }
   ],
   "source": [
    "plt.scatter(dataset['Starting value'],dataset['Ending value'])\n",
    "plt.xlabel('Starting value')\n",
    "plt.ylabel('Ending value')\n",
    "plt.title('money value fluctuations')"
   ]
  },
  {
   "cell_type": "code",
   "execution_count": 6,
   "id": "95088291-5f2d-4fc3-95a6-40a6957f3e4b",
   "metadata": {},
   "outputs": [],
   "source": [
    "x = dataset['Starting value']\n",
    "\n",
    "#x = dataset.drop('Ending value',axis=1)"
   ]
  },
  {
   "cell_type": "code",
   "execution_count": 7,
   "id": "ef1f8782-139d-4ceb-b6fc-eab707c74a82",
   "metadata": {},
   "outputs": [
    {
     "data": {
      "text/plain": [
       "0    16000\n",
       "1    18000\n",
       "2    20000\n",
       "3    15086\n",
       "4    18075\n",
       "Name: Starting value, dtype: int64"
      ]
     },
     "execution_count": 7,
     "metadata": {},
     "output_type": "execute_result"
    }
   ],
   "source": [
    "x"
   ]
  },
  {
   "cell_type": "code",
   "execution_count": 8,
   "id": "4a3dda90-4cca-4f93-a127-4fb053e6477c",
   "metadata": {},
   "outputs": [],
   "source": [
    "y = dataset['Ending value']"
   ]
  },
  {
   "cell_type": "code",
   "execution_count": 9,
   "id": "28e5f334-955e-40b7-bc2c-a875e61751ef",
   "metadata": {},
   "outputs": [
    {
     "data": {
      "text/plain": [
       "0    15081\n",
       "1    18085\n",
       "2    19081\n",
       "3    16000\n",
       "4    19010\n",
       "Name: Ending value, dtype: int64"
      ]
     },
     "execution_count": 9,
     "metadata": {},
     "output_type": "execute_result"
    }
   ],
   "source": [
    "y"
   ]
  },
  {
   "cell_type": "code",
   "execution_count": 10,
   "id": "1d4906e9-97ed-4dc4-b953-e351721d5388",
   "metadata": {},
   "outputs": [],
   "source": [
    "from sklearn.linear_model import LinearRegression\n",
    "\n",
    "money_price = LinearRegression()"
   ]
  },
  {
   "cell_type": "code",
   "execution_count": 11,
   "id": "b65b7dfd-37a8-4b0f-b535-8cb1df0bcae8",
   "metadata": {},
   "outputs": [
    {
     "data": {
      "text/plain": [
       "17432.2"
      ]
     },
     "execution_count": 11,
     "metadata": {},
     "output_type": "execute_result"
    }
   ],
   "source": [
    "x.mean()"
   ]
  },
  {
   "cell_type": "code",
   "execution_count": 12,
   "id": "cd20598f-5c75-4871-897e-6bf6727e9a43",
   "metadata": {},
   "outputs": [
    {
     "data": {
      "text/plain": [
       "17451.4"
      ]
     },
     "execution_count": 12,
     "metadata": {},
     "output_type": "execute_result"
    }
   ],
   "source": [
    "y.mean()"
   ]
  },
  {
   "cell_type": "code",
   "execution_count": 13,
   "id": "6597f695-615f-4fb4-98ad-06ee8e74f976",
   "metadata": {},
   "outputs": [
    {
     "data": {
      "text/plain": [
       "Text(0.5, 1.0, 'money value fluctuations')"
      ]
     },
     "execution_count": 13,
     "metadata": {},
     "output_type": "execute_result"
    },
    {
     "data": {
      "image/png": "[encoded data removed]",
      "text/plain": [
       "<Figure size 640x480 with 1 Axes>"
      ]
     },
     "metadata": {},
     "output_type": "display_data"
    }
   ],
   "source": [
    "plt.scatter(x.mean(), y.mean(), color = 'red')\n",
    "plt.scatter(dataset['Starting value'],dataset['Ending value'])\n",
    "plt.xlabel('Starting value')\n",
    "plt.ylabel('Ending value')\n",
    "plt.title('money value fluctuations')"
   ]
  },
  {
   "cell_type": "code",
   "execution_count": 14,
   "id": "0373e609-6404-41c6-a229-8d0faa965420",
   "metadata": {},
   "outputs": [
    {
     "data": {
      "text/html": [
       "<style>#sk-container-id-1 {color: black;background-color: white;}#sk-container-id-1 pre{padding: 0;}#sk-container-id-1 div.sk-toggleable {background-color: white;}#sk-container-id-1 label.sk-toggleable__label {cursor: pointer;display: block;width: 100%;margin-bottom: 0;padding: 0.3em;box-sizing: border-box;text-align: center;}#sk-container-id-1 label.sk-toggleable__label-arrow:before {content: \"▸\";float: left;margin-right: 0.25em;color: #696969;}#sk-container-id-1 label.sk-toggleable__label-arrow:hover:before {color: black;}#sk-container-id-1 div.sk-estimator:hover label.sk-toggleable__label-arrow:before {color: black;}#sk-container-id-1 div.sk-toggleable__content {max-height: 0;max-width: 0;overflow: hidden;text-align: left;background-color: #f0f8ff;}#sk-container-id-1 div.sk-toggleable__content pre {margin: 0.2em;color: black;border-radius: 0.25em;background-color: #f0f8ff;}#sk-container-id-1 input.sk-toggleable__control:checked~div.sk-toggleable__content {max-height: 200px;max-width: 100%;overflow: auto;}#sk-container-id-1 input.sk-toggleable__control:checked~label.sk-toggleable__label-arrow:before {content: \"▾\";}#sk-container-id-1 div.sk-estimator input.sk-toggleable__control:checked~label.sk-toggleable__label {background-color: #d4ebff;}#sk-container-id-1 div.sk-label input.sk-toggleable__control:checked~label.sk-toggleable__label {background-color: #d4ebff;}#sk-container-id-1 input.sk-hidden--visually {border: 0;clip: rect(1px 1px 1px 1px);clip: rect(1px, 1px, 1px, 1px);height: 1px;margin: -1px;overflow: hidden;padding: 0;position: absolute;width: 1px;}#sk-container-id-1 div.sk-estimator {font-family: monospace;background-color: #f0f8ff;border: 1px dotted black;border-radius: 0.25em;box-sizing: border-box;margin-bottom: 0.5em;}#sk-container-id-1 div.sk-estimator:hover {background-color: #d4ebff;}#sk-container-id-1 div.sk-parallel-item::after {content: \"\";width: 100%;border-bottom: 1px solid gray;flex-grow: 1;}#sk-container-id-1 div.sk-label:hover label.sk-toggleable__label {background-color: #d4ebff;}#sk-container-id-1 div.sk-serial::before {content: \"\";position: absolute;border-left: 1px solid gray;box-sizing: border-box;top: 0;bottom: 0;left: 50%;z-index: 0;}#sk-container-id-1 div.sk-serial {display: flex;flex-direction: column;align-items: center;background-color: white;padding-right: 0.2em;padding-left: 0.2em;position: relative;}#sk-container-id-1 div.sk-item {position: relative;z-index: 1;}#sk-container-id-1 div.sk-parallel {display: flex;align-items: stretch;justify-content: center;background-color: white;position: relative;}#sk-container-id-1 div.sk-item::before, #sk-container-id-1 div.sk-parallel-item::before {content: \"\";position: absolute;border-left: 1px solid gray;box-sizing: border-box;top: 0;bottom: 0;left: 50%;z-index: -1;}#sk-container-id-1 div.sk-parallel-item {display: flex;flex-direction: column;z-index: 1;position: relative;background-color: white;}#sk-container-id-1 div.sk-parallel-item:first-child::after {align-self: flex-end;width: 50%;}#sk-container-id-1 div.sk-parallel-item:last-child::after {align-self: flex-start;width: 50%;}#sk-container-id-1 div.sk-parallel-item:only-child::after {width: 0;}#sk-container-id-1 div.sk-dashed-wrapped {border: 1px dashed gray;margin: 0 0.4em 0.5em 0.4em;box-sizing: border-box;padding-bottom: 0.4em;background-color: white;}#sk-container-id-1 div.sk-label label {font-family: monospace;font-weight: bold;display: inline-block;line-height: 1.2em;}#sk-container-id-1 div.sk-label-container {text-align: center;}#sk-container-id-1 div.sk-container {/* jupyter's `normalize.less` sets `[hidden] { display: none; }` but bootstrap.min.css set `[hidden] { display: none !important; }` so we also need the `!important` here to be able to override the default hidden behavior on the sphinx rendered scikit-learn.org. See: https://github.com/scikit-learn/scikit-learn/issues/21755 */display: inline-block !important;position: relative;}#sk-container-id-1 div.sk-text-repr-fallback {display: none;}</style><div id=\"sk-container-id-1\" class=\"sk-top-container\"><div class=\"sk-text-repr-fallback\"><pre>LinearRegression()</pre><b>In a Jupyter environment, please rerun this cell to show the HTML representation or trust the notebook. <br />On GitHub, the HTML representation is unable to render, please try loading this page with nbviewer.org.</b></div><div class=\"sk-container\" hidden><div class=\"sk-item\"><div class=\"sk-estimator sk-toggleable\"><input class=\"sk-toggleable__control sk-hidden--visually\" id=\"sk-estimator-id-1\" type=\"checkbox\" checked><label for=\"sk-estimator-id-1\" class=\"sk-toggleable__label sk-toggleable__label-arrow\">LinearRegression</label><div class=\"sk-toggleable__content\"><pre>LinearRegression()</pre></div></div></div></div></div>"
      ],
      "text/plain": [
       "LinearRegression()"
      ]
     },
     "execution_count": 14,
     "metadata": {},
     "output_type": "execute_result"
    }
   ],
   "source": [
    "money_price.fit(x.values.reshape(-1,1),y)"
   ]
  },
  {
   "cell_type": "code",
   "execution_count": 15,
   "id": "0718676d-bca2-450d-bbf7-ea764208d8b9",
   "metadata": {},
   "outputs": [],
   "source": [
    "m = money_price.coef_"
   ]
  },
  {
   "cell_type": "code",
   "execution_count": 16,
   "id": "402ac1cd-f3d5-4de2-bace-d8f2029b2459",
   "metadata": {},
   "outputs": [],
   "source": [
    "c = money_price.intercept_"
   ]
  },
  {
   "cell_type": "code",
   "execution_count": 17,
   "id": "256c6c7a-773c-425b-afc4-0a75a7c5cd72",
   "metadata": {},
   "outputs": [
    {
     "data": {
      "text/plain": [
       "array([17922.35716403])"
      ]
     },
     "execution_count": 17,
     "metadata": {},
     "output_type": "execute_result"
    }
   ],
   "source": [
    "m*18000 + c"
   ]
  },
  {
   "cell_type": "code",
   "execution_count": 18,
   "id": "d23916d5-da6c-4659-8e94-b780d431989a",
   "metadata": {},
   "outputs": [
    {
     "data": {
      "text/plain": [
       "array([16263.47317659])"
      ]
     },
     "execution_count": 18,
     "metadata": {},
     "output_type": "execute_result"
    }
   ],
   "source": [
    "money_price.predict([[16000]])"
   ]
  },
  {
   "cell_type": "code",
   "execution_count": 19,
   "id": "f9de4b6c-218f-4ae0-a4e2-ccf7387162a1",
   "metadata": {},
   "outputs": [],
   "source": [
    "dataset['Predicted_y'] = money_price.predict(x.values.reshape(-1, 1))"
   ]
  },
  {
   "cell_type": "code",
   "execution_count": 21,
   "id": "0c5d681f-ce9c-44dc-922d-d2ca7ca2818d",
   "metadata": {},
   "outputs": [
    {
     "data": {
      "text/html": [
       "<div>\n",
       "<style scoped>\n",
       "    .dataframe tbody tr th:only-of-type {\n",
       "        vertical-align: middle;\n",
       "    }\n",
       "\n",
       "    .dataframe tbody tr th {\n",
       "        vertical-align: top;\n",
       "    }\n",
       "\n",
       "    .dataframe thead th {\n",
       "        text-align: right;\n",
       "    }\n",
       "</style>\n",
       "<table border=\"1\" class=\"dataframe\">\n",
       "  <thead>\n",
       "    <tr style=\"text-align: right;\">\n",
       "      <th></th>\n",
       "      <th>Starting value</th>\n",
       "      <th>Ending value</th>\n",
       "      <th>Predicted_y</th>\n",
       "    </tr>\n",
       "  </thead>\n",
       "  <tbody>\n",
       "    <tr>\n",
       "      <th>0</th>\n",
       "      <td>16000</td>\n",
       "      <td>15081</td>\n",
       "      <td>16263.473177</td>\n",
       "    </tr>\n",
       "    <tr>\n",
       "      <th>1</th>\n",
       "      <td>18000</td>\n",
       "      <td>18085</td>\n",
       "      <td>17922.357164</td>\n",
       "    </tr>\n",
       "    <tr>\n",
       "      <th>2</th>\n",
       "      <td>20000</td>\n",
       "      <td>19081</td>\n",
       "      <td>19581.241151</td>\n",
       "    </tr>\n",
       "    <tr>\n",
       "      <th>3</th>\n",
       "      <td>15086</td>\n",
       "      <td>16000</td>\n",
       "      <td>15505.363194</td>\n",
       "    </tr>\n",
       "    <tr>\n",
       "      <th>4</th>\n",
       "      <td>18075</td>\n",
       "      <td>19010</td>\n",
       "      <td>17984.565314</td>\n",
       "    </tr>\n",
       "  </tbody>\n",
       "</table>\n",
       "</div>"
      ],
      "text/plain": [
       "   Starting value  Ending value   Predicted_y\n",
       "0           16000         15081  16263.473177\n",
       "1           18000         18085  17922.357164\n",
       "2           20000         19081  19581.241151\n",
       "3           15086         16000  15505.363194\n",
       "4           18075         19010  17984.565314"
      ]
     },
     "execution_count": 21,
     "metadata": {},
     "output_type": "execute_result"
    }
   ],
   "source": [
    "dataset"
   ]
  },
  {
   "cell_type": "code",
   "execution_count": 23,
   "id": "93f49f04-3c75-43de-af51-cc175b0cd290",
   "metadata": {},
   "outputs": [
    {
     "data": {
      "text/plain": [
       "Text(0.5, 1.0, 'money value fluctuations')"
      ]
     },
     "execution_count": 23,
     "metadata": {},
     "output_type": "execute_result"
    },
    {
     "data": {
      "image/png": "[encoded data removed]",
      "text/plain": [
       "<Figure size 640x480 with 1 Axes>"
      ]
     },
     "metadata": {},
     "output_type": "display_data"
    }
   ],
   "source": [
    "plt.plot(x.values.reshape(-1,1),dataset['Predicted_y'])\n",
    "plt.scatter(x.mean(), y.mean(), color = 'red')\n",
    "plt.scatter(dataset['Starting value'],dataset['Ending value'])\n",
    "plt.xlabel('Starting value')\n",
    "plt.ylabel('Ending value')\n",
    "plt.title('money value fluctuations')"
   ]
  },
  {
   "cell_type": "markdown",
   "id": "fb6358a3-3e90-4d9a-ac37-83cacae31f26",
   "metadata": {},
   "source": [
    "***Lose & Cost function***"
   ]
  },
  {
   "cell_type": "code",
   "execution_count": 24,
   "id": "12958b06-18cf-4082-b549-1d327ad784b6",
   "metadata": {},
   "outputs": [],
   "source": [
    "dataset['Lose'] = dataset['Ending value'] - dataset['Predicted_y']"
   ]
  },
  {
   "cell_type": "code",
   "execution_count": 25,
   "id": "6bc8e44d-d89d-484a-b2c8-3ace006f6262",
   "metadata": {},
   "outputs": [
    {
     "data": {
      "text/html": [
       "<div>\n",
       "<style scoped>\n",
       "    .dataframe tbody tr th:only-of-type {\n",
       "        vertical-align: middle;\n",
       "    }\n",
       "\n",
       "    .dataframe tbody tr th {\n",
       "        vertical-align: top;\n",
       "    }\n",
       "\n",
       "    .dataframe thead th {\n",
       "        text-align: right;\n",
       "    }\n",
       "</style>\n",
       "<table border=\"1\" class=\"dataframe\">\n",
       "  <thead>\n",
       "    <tr style=\"text-align: right;\">\n",
       "      <th></th>\n",
       "      <th>Starting value</th>\n",
       "      <th>Ending value</th>\n",
       "      <th>Predicted_y</th>\n",
       "      <th>Lose</th>\n",
       "    </tr>\n",
       "  </thead>\n",
       "  <tbody>\n",
       "    <tr>\n",
       "      <th>0</th>\n",
       "      <td>16000</td>\n",
       "      <td>15081</td>\n",
       "      <td>16263.473177</td>\n",
       "      <td>-1182.473177</td>\n",
       "    </tr>\n",
       "    <tr>\n",
       "      <th>1</th>\n",
       "      <td>18000</td>\n",
       "      <td>18085</td>\n",
       "      <td>17922.357164</td>\n",
       "      <td>162.642836</td>\n",
       "    </tr>\n",
       "    <tr>\n",
       "      <th>2</th>\n",
       "      <td>20000</td>\n",
       "      <td>19081</td>\n",
       "      <td>19581.241151</td>\n",
       "      <td>-500.241151</td>\n",
       "    </tr>\n",
       "    <tr>\n",
       "      <th>3</th>\n",
       "      <td>15086</td>\n",
       "      <td>16000</td>\n",
       "      <td>15505.363194</td>\n",
       "      <td>494.636806</td>\n",
       "    </tr>\n",
       "    <tr>\n",
       "      <th>4</th>\n",
       "      <td>18075</td>\n",
       "      <td>19010</td>\n",
       "      <td>17984.565314</td>\n",
       "      <td>1025.434686</td>\n",
       "    </tr>\n",
       "  </tbody>\n",
       "</table>\n",
       "</div>"
      ],
      "text/plain": [
       "   Starting value  Ending value   Predicted_y         Lose\n",
       "0           16000         15081  16263.473177 -1182.473177\n",
       "1           18000         18085  17922.357164   162.642836\n",
       "2           20000         19081  19581.241151  -500.241151\n",
       "3           15086         16000  15505.363194   494.636806\n",
       "4           18075         19010  17984.565314  1025.434686"
      ]
     },
     "execution_count": 25,
     "metadata": {},
     "output_type": "execute_result"
    }
   ],
   "source": [
    "dataset"
   ]
  },
  {
   "cell_type": "code",
   "execution_count": 26,
   "id": "678186e0-c641-40bd-b108-6155451cc834",
   "metadata": {},
   "outputs": [],
   "source": [
    "from sklearn.metrics import mean_absolute_error , mean_squared_error"
   ]
  },
  {
   "cell_type": "code",
   "execution_count": 30,
   "id": "0ccd8964-0ae8-4e25-8172-a234df8badfc",
   "metadata": {},
   "outputs": [
    {
     "data": {
      "text/plain": [
       "594223.7161502176"
      ]
     },
     "execution_count": 30,
     "metadata": {},
     "output_type": "execute_result"
    }
   ],
   "source": [
    "mse = mean_squared_error(dataset['Ending value'] , dataset['Predicted_y'])\n",
    "mse"
   ]
  },
  {
   "cell_type": "code",
   "execution_count": 33,
   "id": "df8b7dff-31d8-4784-811f-02c6e76ebeaa",
   "metadata": {},
   "outputs": [
    {
     "data": {
      "text/plain": [
       "673.0857312277509"
      ]
     },
     "execution_count": 33,
     "metadata": {},
     "output_type": "execute_result"
    }
   ],
   "source": [
    "mac = mean_absolute_error(dataset['Ending value'], dataset['Predicted_y'])\n",
    "mac"
   ]
  },
  {
   "cell_type": "code",
   "execution_count": 34,
   "id": "2d6533c0-c502-46c3-bde2-6e35c165eec7",
   "metadata": {},
   "outputs": [
    {
     "data": {
      "text/plain": [
       "673.0857312277509"
      ]
     },
     "execution_count": 34,
     "metadata": {},
     "output_type": "execute_result"
    }
   ],
   "source": [
    "#another way\n",
    "\n",
    "sum(abs(dataset['Lose']))/ len(x)"
   ]
  },
  {
   "cell_type": "code",
   "execution_count": 37,
   "id": "44f442f2-4a74-4e7b-be80-2e0dd665f7c7",
   "metadata": {},
   "outputs": [
    {
     "data": {
      "text/plain": [
       "0.775113520317445"
      ]
     },
     "execution_count": 37,
     "metadata": {},
     "output_type": "execute_result"
    }
   ],
   "source": [
    "money_price.score(x.values.reshape(-1,1),y)"
   ]
  },
  {
   "cell_type": "code",
   "execution_count": 40,
   "id": "8558bf41-5e9e-4b35-8b9c-2e22ea58e019",
   "metadata": {},
   "outputs": [
    {
     "data": {
      "text/plain": [
       "Text(0.5, 1.0, 'money value fluctuations')"
      ]
     },
     "execution_count": 40,
     "metadata": {},
     "output_type": "execute_result"
    },
    {
     "data": {
      "image/png": "[encoded data removed]",
      "text/plain": [
       "<Figure size 640x480 with 1 Axes>"
      ]
     },
     "metadata": {},
     "output_type": "display_data"
    }
   ],
   "source": [
    "plt.plot(x.values.reshape(-1,1),dataset['Predicted_y'])\n",
    "plt.scatter(x.mean(), y.mean(), color = 'red')\n",
    "plt.scatter(dataset['Starting value'],dataset['Ending value'])\n",
    "plt.scatter(dataset['Starting value'],money_price.predict(x.values.reshape(-1,1)))\n",
    "plt.xlabel('Starting value')\n",
    "plt.ylabel('Ending value')\n",
    "plt.title('money value fluctuations')"
   ]
  },
  {
   "cell_type": "code",
   "execution_count": null,
   "id": "912388b7-6d27-4f2b-8cfc-1dcba1458221",
   "metadata": {},
   "outputs": [],
   "source": []
  }
 ],
 "metadata": {
  "kernelspec": {
   "display_name": "Python 3 (ipykernel)",
   "language": "python",
   "name": "python3"
  },
  "language_info": {
   "codemirror_mode": {
    "name": "ipython",
    "version": 3
   },
   "file_extension": ".py",
   "mimetype": "text/x-python",
   "name": "python",
   "nbconvert_exporter": "python",
   "pygments_lexer": "ipython3",
   "version": "3.11.7"
  }
 },
 "nbformat": 4,
 "nbformat_minor": 5
}
